{
 "cells": [
  {
   "cell_type": "markdown",
   "metadata": {},
   "source": [
    "# 第四章：迭代器与生成器"
   ]
  },
  {
   "cell_type": "markdown",
   "metadata": {},
   "source": [
    "## 4.1 手动遍历迭代器\n",
    "### 你想遍历一个可迭代对象中的所有元素，但是却不想使用for循环。"
   ]
  },
  {
   "cell_type": "code",
   "execution_count": 10,
   "metadata": {
    "collapsed": true
   },
   "outputs": [
    {
     "name": "stdout",
     "output_type": "stream",
     "text": [
      "import numpy as np\n",
      "import pandas as pd\n",
      "from pandas import DataFrame\n",
      "from sklearn.linear_model import LinearRegression\n",
      "from sklearn.model_selection import train_test_split\n",
      "\n",
      "from util import yc_io_util as yc\n",
      "\n",
      "\n",
      "def generate_data(rows):\n",
      "    data = np.random.randint(0, 100, size=(rows, 2))\n",
      "    df = DataFrame(data=data, columns=['num1', 'num2']);\n",
      "    df['sum'] = df['num1'] + df['num2']\n",
      "    yc.create_file('d:/out/ml/train.csv')\n",
      "    df.to_csv('d:/out/ml/train.csv', index=False)\n",
      "\n",
      "\n",
      "def step_train(X, y):\n",
      "    reg_model = LinearRegression()\n",
      "    reg_model.fit(X, y)\n",
      "    reg_model_score = reg_model.score(X, y)\n",
      "    print('reg_model_score:\\t', reg_model_score)\n",
      "    print(\"reg_model's coefficient:\\t\", reg_model.coef_)\n",
      "    return reg_model\n",
      "\n",
      "def step_predict(df, ml_model):\n",
      "    pred=ml_model.predict(df)\n",
      "    pred_df=DataFrame({'num1':df.loc[:,'num1'],\\\n",
      "                       'num2': df.loc[:, 'num2'],\\\n",
      "                       'predict_sum':pred.T})\n",
      "    pred_df.to_csv('d:/out/ml/predict.csv', index=False)\n",
      "\n",
      "generate_data(100)\n",
      "train = pd.read_csv(\"d:/out/ml/train.csv\")\n",
      "training, testing = train_test_split(train, test_size=0.2, random_state=0)\n",
      "training_X = training.loc[:, ['num1', 'num2']]\n",
      "training_y = training['sum']\n",
      "testing_X = testing.loc[:, ['num1', 'num2']]\n",
      "testing_y = testing['sum']\n",
      "\n",
      "print(\"Total sample size = %i; training sample size = %i, testing sample size = %i\" \\\n",
      "      % (train.shape[0], training.shape[0], testing.shape[0]))\n",
      "X = training.loc[:, ['num1', 'num2']]\n",
      "y = training['sum']\n",
      "\n",
      "\n",
      "classifier_LR=step_train(training_X, training_y)\n",
      "step_predict(testing_X,classifier_LR)\n",
      "\n",
      "\"\"\"\n",
      "Total sample size = 100; training sample size = 80, testing sample size = 20\n",
      "reg_model's coefficient:     array([ 1.,  1.])\n",
      "reg_model_score:\t 1.0\n",
      "\n",
      "\"\"\""
     ]
    },
    {
     "ename": "StopIteration",
     "evalue": "",
     "output_type": "error",
     "traceback": [
      "\u001b[1;31m---------------------------------------------------------------------------\u001b[0m",
      "\u001b[1;31mStopIteration\u001b[0m                             Traceback (most recent call last)",
      "\u001b[1;32m<ipython-input-10-5b782a026590>\u001b[0m in \u001b[0;36m<module>\u001b[1;34m()\u001b[0m\n\u001b[0;32m      7\u001b[0m         \u001b[1;32mexcept\u001b[0m \u001b[0mStopAsyncIteration\u001b[0m\u001b[1;33m:\u001b[0m\u001b[1;33m\u001b[0m\u001b[0m\n\u001b[0;32m      8\u001b[0m             \u001b[1;32mpass\u001b[0m\u001b[1;33m\u001b[0m\u001b[0m\n\u001b[1;32m----> 9\u001b[1;33m \u001b[0mmanual_iter\u001b[0m\u001b[1;33m(\u001b[0m\u001b[1;33m)\u001b[0m\u001b[1;33m\u001b[0m\u001b[0m\n\u001b[0m",
      "\u001b[1;32m<ipython-input-10-5b782a026590>\u001b[0m in \u001b[0;36mmanual_iter\u001b[1;34m()\u001b[0m\n\u001b[0;32m      3\u001b[0m         \u001b[1;32mtry\u001b[0m\u001b[1;33m:\u001b[0m\u001b[1;33m\u001b[0m\u001b[0m\n\u001b[0;32m      4\u001b[0m             \u001b[1;32mwhile\u001b[0m \u001b[1;32mTrue\u001b[0m\u001b[1;33m:\u001b[0m\u001b[1;33m\u001b[0m\u001b[0m\n\u001b[1;32m----> 5\u001b[1;33m                 \u001b[0mline\u001b[0m \u001b[1;33m=\u001b[0m \u001b[0mnext\u001b[0m\u001b[1;33m(\u001b[0m\u001b[0mf\u001b[0m\u001b[1;33m)\u001b[0m\u001b[1;33m\u001b[0m\u001b[0m\n\u001b[0m\u001b[0;32m      6\u001b[0m                 \u001b[0mprint\u001b[0m\u001b[1;33m(\u001b[0m\u001b[0mline\u001b[0m\u001b[1;33m,\u001b[0m \u001b[0mend\u001b[0m\u001b[1;33m=\u001b[0m\u001b[1;34m''\u001b[0m\u001b[1;33m)\u001b[0m\u001b[1;33m\u001b[0m\u001b[0m\n\u001b[0;32m      7\u001b[0m         \u001b[1;32mexcept\u001b[0m \u001b[0mStopAsyncIteration\u001b[0m\u001b[1;33m:\u001b[0m\u001b[1;33m\u001b[0m\u001b[0m\n",
      "\u001b[1;31mStopIteration\u001b[0m: "
     ]
    }
   ],
   "source": [
    "def manual_iter():\n",
    "    with open('./test.txt') as f:\n",
    "        try:\n",
    "            while True:\n",
    "                line = next(f)\n",
    "                print(line, end='')\n",
    "        except StopAsyncIteration:\n",
    "            pass\n",
    "manual_iter()"
   ]
  },
  {
   "cell_type": "code",
   "execution_count": 42,
   "metadata": {},
   "outputs": [
    {
     "data": {
      "text/plain": [
       "1"
      ]
     },
     "execution_count": 42,
     "metadata": {},
     "output_type": "execute_result"
    }
   ],
   "source": [
    "items = [1,2,3]\n",
    "it = iter(items)\n",
    "next(it)"
   ]
  },
  {
   "cell_type": "code",
   "execution_count": 43,
   "metadata": {},
   "outputs": [
    {
     "data": {
      "text/plain": [
       "3"
      ]
     },
     "execution_count": 43,
     "metadata": {},
     "output_type": "execute_result"
    }
   ],
   "source": [
    "next(it)\n",
    "next(it)"
   ]
  },
  {
   "cell_type": "markdown",
   "metadata": {},
   "source": [
    "## 4.2 代理迭代\n",
    "### 你构建了一个自定义容器对象，里面包含有列表、元组或其他可迭代对象。 你想直接在你的这个新容器对象上执行迭代操作。"
   ]
  },
  {
   "cell_type": "code",
   "execution_count": 45,
   "metadata": {},
   "outputs": [
    {
     "ename": "IndentationError",
     "evalue": "expected an indented block (<ipython-input-45-b47122c2fc19>, line 3)",
     "output_type": "error",
     "traceback": [
      "\u001b[1;36m  File \u001b[1;32m\"<ipython-input-45-b47122c2fc19>\"\u001b[1;36m, line \u001b[1;32m3\u001b[0m\n\u001b[1;33m    self._value = value\u001b[0m\n\u001b[1;37m       ^\u001b[0m\n\u001b[1;31mIndentationError\u001b[0m\u001b[1;31m:\u001b[0m expected an indented block\n"
     ]
    }
   ],
   "source": [
    "class Node:\n",
    "    def __init__(self, value):\n",
    "    self._value = value\n",
    "    self._children = []\n",
    "    \n",
    "    def __repr__(self):\n",
    "        return 'Node({!r})'.format(self._value)\n",
    "    \n",
    "    def __iter__(self):\n",
    "        return iter(self._children)\n",
    "    \n",
    "    def add_children(self, node):\n",
    "        self._children.append(node)\n",
    "\n",
    "if __name__ == '__main__':\n",
    "    root = "
   ]
  },
  {
   "cell_type": "code",
   "execution_count": null,
   "metadata": {
    "collapsed": true
   },
   "outputs": [],
   "source": [
    "1111"
   ]
  },
  {
   "cell_type": "code",
   "execution_count": null,
   "metadata": {
    "collapsed": true
   },
   "outputs": [],
   "source": []
  }
 ],
 "metadata": {
  "kernelspec": {
   "display_name": "Python 3",
   "language": "python",
   "name": "python3"
  },
  "language_info": {
   "codemirror_mode": {
    "name": "ipython",
    "version": 3
   },
   "file_extension": ".py",
   "mimetype": "text/x-python",
   "name": "python",
   "nbconvert_exporter": "python",
   "pygments_lexer": "ipython3",
   "version": "3.5.4"
  }
 },
 "nbformat": 4,
 "nbformat_minor": 2
}
